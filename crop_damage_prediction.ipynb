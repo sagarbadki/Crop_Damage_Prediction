{
  "nbformat": 4,
  "nbformat_minor": 0,
  "metadata": {
    "colab": {
      "name": "crop_damage_prediction.ipynb",
      "provenance": [],
      "collapsed_sections": []
    },
    "kernelspec": {
      "name": "python3",
      "display_name": "Python 3"
    },
    "accelerator": "GPU"
  },
  "cells": [
    {
      "cell_type": "code",
      "metadata": {
        "id": "8VuEObZMqTx1",
        "colab_type": "code",
        "colab": {
          "base_uri": "https://localhost:8080/",
          "height": 71
        },
        "outputId": "ac6da214-d098-46ec-e85f-3bfac3160e5f"
      },
      "source": [
        "import pandas as pd\n",
        "import numpy as np\n",
        "import seaborn as sns\n",
        "import matplotlib.pyplot as plt\n",
        "import lightgbm as lgb\n",
        "%matplotlib inline\n",
        "from sklearn.preprocessing import StandardScaler\n",
        "from sklearn.model_selection import train_test_split\n",
        "from sklearn.ensemble import RandomForestClassifier\n",
        "from sklearn.tree import DecisionTreeClassifier\n",
        "from xgboost import XGBClassifier\n",
        "from sklearn.metrics import accuracy_score\n",
        "from keras.models import Sequential\n",
        "from keras.layers import Activation, Dense, Dropout\n",
        "import warnings\n",
        "warnings.filterwarnings( 'ignore')\n",
        "\n"
      ],
      "execution_count": 1,
      "outputs": [
        {
          "output_type": "stream",
          "text": [
            "/usr/local/lib/python3.6/dist-packages/statsmodels/tools/_testing.py:19: FutureWarning: pandas.util.testing is deprecated. Use the functions in the public API at pandas.testing instead.\n",
            "  import pandas.util.testing as tm\n"
          ],
          "name": "stderr"
        }
      ]
    },
    {
      "cell_type": "code",
      "metadata": {
        "id": "1kgx_0scqtrL",
        "colab_type": "code",
        "colab": {}
      },
      "source": [
        "train=pd.read_csv('/content/drive/My Drive/crop damage prediction/train_yaOffsB.csv')\n",
        "test=pd.read_csv('/content/drive/My Drive/crop damage prediction/test_pFkWwen.csv')\n",
        "submission=pd.read_csv('/content/drive/My Drive/crop damage prediction/sample_submission_O1oDc4H.csv')"
      ],
      "execution_count": 67,
      "outputs": []
    },
    {
      "cell_type": "code",
      "metadata": {
        "id": "1saG1rwD_zFa",
        "colab_type": "code",
        "colab": {
          "base_uri": "https://localhost:8080/",
          "height": 34
        },
        "outputId": "dd27be4e-70ed-4b01-b3fd-acc6bba93174"
      },
      "source": [
        "train.shape"
      ],
      "execution_count": 69,
      "outputs": [
        {
          "output_type": "execute_result",
          "data": {
            "text/plain": [
              "(88858, 10)"
            ]
          },
          "metadata": {
            "tags": []
          },
          "execution_count": 69
        }
      ]
    },
    {
      "cell_type": "code",
      "metadata": {
        "id": "AWwXNp_Urhqn",
        "colab_type": "code",
        "colab": {
          "base_uri": "https://localhost:8080/",
          "height": 51
        },
        "outputId": "f43cbcc1-a182-44ef-ad0f-bffc03b14577"
      },
      "source": [
        "train['train_flag'] = 1\n",
        "test['train_flag'] = 0\n",
        "test['Crop_Damage'] = 0\n",
        "print(train.shape, test.shape)\n",
        "\n",
        "data = pd.concat((train,test))\n",
        "print(data.shape)"
      ],
      "execution_count": 70,
      "outputs": [
        {
          "output_type": "stream",
          "text": [
            "(88858, 11) (59310, 11)\n",
            "(148168, 11)\n"
          ],
          "name": "stdout"
        }
      ]
    },
    {
      "cell_type": "code",
      "metadata": {
        "id": "i7w-JjdjAMAP",
        "colab_type": "code",
        "colab": {
          "base_uri": "https://localhost:8080/",
          "height": 224
        },
        "outputId": "05841b36-bfb2-4b8a-be07-56c7e415104c"
      },
      "source": [
        "data.head()"
      ],
      "execution_count": 71,
      "outputs": [
        {
          "output_type": "execute_result",
          "data": {
            "text/html": [
              "<div>\n",
              "<style scoped>\n",
              "    .dataframe tbody tr th:only-of-type {\n",
              "        vertical-align: middle;\n",
              "    }\n",
              "\n",
              "    .dataframe tbody tr th {\n",
              "        vertical-align: top;\n",
              "    }\n",
              "\n",
              "    .dataframe thead th {\n",
              "        text-align: right;\n",
              "    }\n",
              "</style>\n",
              "<table border=\"1\" class=\"dataframe\">\n",
              "  <thead>\n",
              "    <tr style=\"text-align: right;\">\n",
              "      <th></th>\n",
              "      <th>ID</th>\n",
              "      <th>Estimated_Insects_Count</th>\n",
              "      <th>Crop_Type</th>\n",
              "      <th>Soil_Type</th>\n",
              "      <th>Pesticide_Use_Category</th>\n",
              "      <th>Number_Doses_Week</th>\n",
              "      <th>Number_Weeks_Used</th>\n",
              "      <th>Number_Weeks_Quit</th>\n",
              "      <th>Season</th>\n",
              "      <th>Crop_Damage</th>\n",
              "      <th>train_flag</th>\n",
              "    </tr>\n",
              "  </thead>\n",
              "  <tbody>\n",
              "    <tr>\n",
              "      <th>0</th>\n",
              "      <td>F00000001</td>\n",
              "      <td>188</td>\n",
              "      <td>1</td>\n",
              "      <td>0</td>\n",
              "      <td>1</td>\n",
              "      <td>0</td>\n",
              "      <td>0.0</td>\n",
              "      <td>0</td>\n",
              "      <td>1</td>\n",
              "      <td>0</td>\n",
              "      <td>1</td>\n",
              "    </tr>\n",
              "    <tr>\n",
              "      <th>1</th>\n",
              "      <td>F00000003</td>\n",
              "      <td>209</td>\n",
              "      <td>1</td>\n",
              "      <td>0</td>\n",
              "      <td>1</td>\n",
              "      <td>0</td>\n",
              "      <td>0.0</td>\n",
              "      <td>0</td>\n",
              "      <td>2</td>\n",
              "      <td>1</td>\n",
              "      <td>1</td>\n",
              "    </tr>\n",
              "    <tr>\n",
              "      <th>2</th>\n",
              "      <td>F00000004</td>\n",
              "      <td>257</td>\n",
              "      <td>1</td>\n",
              "      <td>0</td>\n",
              "      <td>1</td>\n",
              "      <td>0</td>\n",
              "      <td>0.0</td>\n",
              "      <td>0</td>\n",
              "      <td>2</td>\n",
              "      <td>1</td>\n",
              "      <td>1</td>\n",
              "    </tr>\n",
              "    <tr>\n",
              "      <th>3</th>\n",
              "      <td>F00000005</td>\n",
              "      <td>257</td>\n",
              "      <td>1</td>\n",
              "      <td>1</td>\n",
              "      <td>1</td>\n",
              "      <td>0</td>\n",
              "      <td>0.0</td>\n",
              "      <td>0</td>\n",
              "      <td>2</td>\n",
              "      <td>1</td>\n",
              "      <td>1</td>\n",
              "    </tr>\n",
              "    <tr>\n",
              "      <th>4</th>\n",
              "      <td>F00000006</td>\n",
              "      <td>342</td>\n",
              "      <td>1</td>\n",
              "      <td>0</td>\n",
              "      <td>1</td>\n",
              "      <td>0</td>\n",
              "      <td>0.0</td>\n",
              "      <td>0</td>\n",
              "      <td>2</td>\n",
              "      <td>1</td>\n",
              "      <td>1</td>\n",
              "    </tr>\n",
              "  </tbody>\n",
              "</table>\n",
              "</div>"
            ],
            "text/plain": [
              "          ID  Estimated_Insects_Count  ...  Crop_Damage  train_flag\n",
              "0  F00000001                      188  ...            0           1\n",
              "1  F00000003                      209  ...            1           1\n",
              "2  F00000004                      257  ...            1           1\n",
              "3  F00000005                      257  ...            1           1\n",
              "4  F00000006                      342  ...            1           1\n",
              "\n",
              "[5 rows x 11 columns]"
            ]
          },
          "metadata": {
            "tags": []
          },
          "execution_count": 71
        }
      ]
    },
    {
      "cell_type": "code",
      "metadata": {
        "id": "wasVeiwlAXmF",
        "colab_type": "code",
        "colab": {}
      },
      "source": [
        ""
      ],
      "execution_count": null,
      "outputs": []
    },
    {
      "cell_type": "code",
      "metadata": {
        "id": "pPlE3xOBrkCg",
        "colab_type": "code",
        "colab": {
          "base_uri": "https://localhost:8080/",
          "height": 401
        },
        "outputId": "de63d334-bac2-43ee-ed86-22aff844c95d"
      },
      "source": [
        "sns.heatmap(train.corr(),annot=True)"
      ],
      "execution_count": 4,
      "outputs": [
        {
          "output_type": "execute_result",
          "data": {
            "text/plain": [
              "<matplotlib.axes._subplots.AxesSubplot at 0x7fc6f6b7bf28>"
            ]
          },
          "metadata": {
            "tags": []
          },
          "execution_count": 4
        },
        {
          "output_type": "display_data",
          "data": {
            "image/png": "[encoded data removed]",
            "text/plain": [
              "<Figure size 432x288 with 2 Axes>"
            ]
          },
          "metadata": {
            "tags": [],
            "needs_background": "light"
          }
        }
      ]
    },
    {
      "cell_type": "code",
      "metadata": {
        "id": "-LvyNYTdwNMY",
        "colab_type": "code",
        "colab": {
          "base_uri": "https://localhost:8080/",
          "height": 204
        },
        "outputId": "af453169-bac3-4ad0-f006-6bb6822ecdbe"
      },
      "source": [
        "train.isnull().sum()"
      ],
      "execution_count": 5,
      "outputs": [
        {
          "output_type": "execute_result",
          "data": {
            "text/plain": [
              "ID                            0\n",
              "Estimated_Insects_Count       0\n",
              "Crop_Type                     0\n",
              "Soil_Type                     0\n",
              "Pesticide_Use_Category        0\n",
              "Number_Doses_Week             0\n",
              "Number_Weeks_Used          9000\n",
              "Number_Weeks_Quit             0\n",
              "Season                        0\n",
              "Crop_Damage                   0\n",
              "dtype: int64"
            ]
          },
          "metadata": {
            "tags": []
          },
          "execution_count": 5
        }
      ]
    },
    {
      "cell_type": "code",
      "metadata": {
        "id": "RT77CfO5wU1E",
        "colab_type": "code",
        "colab": {
          "base_uri": "https://localhost:8080/",
          "height": 34
        },
        "outputId": "6d9b6209-f608-4aac-f515-0c06c4ba96df"
      },
      "source": [
        "train.shape"
      ],
      "execution_count": 6,
      "outputs": [
        {
          "output_type": "execute_result",
          "data": {
            "text/plain": [
              "(88858, 10)"
            ]
          },
          "metadata": {
            "tags": []
          },
          "execution_count": 6
        }
      ]
    },
    {
      "cell_type": "code",
      "metadata": {
        "id": "qrq88PB-wbAF",
        "colab_type": "code",
        "colab": {}
      },
      "source": [
        "train['Number_Weeks_Used']=train['Number_Weeks_Used'].fillna(train['Number_Weeks_Used'].mode()[0])"
      ],
      "execution_count": 7,
      "outputs": []
    },
    {
      "cell_type": "code",
      "metadata": {
        "id": "EdzTH3_ztO8O",
        "colab_type": "code",
        "colab": {}
      },
      "source": [
        "scale=StandardScaler()\n",
        "estimated_insects=scale.fit_transform(train.iloc[:,1:2])\n",
        "estimated_insects=pd.DataFrame(estimated_insects)\n",
        "train=pd.concat([train,estimated_insects],axis=1)"
      ],
      "execution_count": 9,
      "outputs": []
    },
    {
      "cell_type": "code",
      "metadata": {
        "id": "oDhw3a1dt9gX",
        "colab_type": "code",
        "colab": {}
      },
      "source": [
        "train.drop(['ID','Estimated_Insects_Count'],axis=1,inplace=True)"
      ],
      "execution_count": 10,
      "outputs": []
    },
    {
      "cell_type": "code",
      "metadata": {
        "id": "uhpkPox_uhbv",
        "colab_type": "code",
        "colab": {}
      },
      "source": [
        "X=train.drop(['Crop_Damage'],axis=1)\n",
        "y=train['Crop_Damage']"
      ],
      "execution_count": 11,
      "outputs": []
    },
    {
      "cell_type": "code",
      "metadata": {
        "id": "WuZd6qDwu2cP",
        "colab_type": "code",
        "colab": {}
      },
      "source": [
        "X_train,X_test,y_train,y_test=train_test_split(X,y, test_size=0.2,random_state=2)"
      ],
      "execution_count": 12,
      "outputs": []
    },
    {
      "cell_type": "code",
      "metadata": {
        "id": "ujo5sMFtvN08",
        "colab_type": "code",
        "colab": {
          "base_uri": "https://localhost:8080/",
          "height": 51
        },
        "outputId": "82b7cc84-7d4d-4d4d-fde3-0d606454d881"
      },
      "source": [
        "clf=XGBClassifier( )\n",
        "clf.fit(X_train,y_train)\n",
        "y_pred=clf.predict(X_test)\n",
        "train_score=clf.score(X_train,y_train)\n",
        "test_score= accuracy_score(y_test,y_pred)\n",
        "print('Training Accuracy :',train_score)\n",
        "print('Testing Accuracy :',test_score)"
      ],
      "execution_count": 13,
      "outputs": [
        {
          "output_type": "stream",
          "text": [
            "Training Accuracy : 0.8442872014180007\n",
            "Testing Accuracy : 0.8420549178483007\n"
          ],
          "name": "stdout"
        }
      ]
    },
    {
      "cell_type": "code",
      "metadata": {
        "id": "8pImtGmZwFkN",
        "colab_type": "code",
        "colab": {
          "base_uri": "https://localhost:8080/",
          "height": 425
        },
        "outputId": "9f661728-ecee-4355-8472-e5a879840c07"
      },
      "source": [
        "from sklearn.model_selection import RandomizedSearchCV\n",
        "params={'max_depth':[1,2,4,6,10,15,20,25,35,50],\n",
        "        'learning_rate':[0.001,0.01,0.05,0.1,0.5,1],\n",
        "        'n_estimators':[i for i in range(0,2000,200)]}\n",
        "\n",
        "clf=XGBClassifier()\n",
        "\n",
        "random_cv=RandomizedSearchCV( clf,param_distributions=params,cv=3,scoring='accuracy')\n",
        "random_cv.fit(X_train,y_train)"
      ],
      "execution_count": 14,
      "outputs": [
        {
          "output_type": "execute_result",
          "data": {
            "text/plain": [
              "RandomizedSearchCV(cv=3, error_score=nan,\n",
              "                   estimator=XGBClassifier(base_score=0.5, booster='gbtree',\n",
              "                                           colsample_bylevel=1,\n",
              "                                           colsample_bynode=1,\n",
              "                                           colsample_bytree=1, gamma=0,\n",
              "                                           learning_rate=0.1, max_delta_step=0,\n",
              "                                           max_depth=3, min_child_weight=1,\n",
              "                                           missing=None, n_estimators=100,\n",
              "                                           n_jobs=1, nthread=None,\n",
              "                                           objective='binary:logistic',\n",
              "                                           random_state=0, reg_alpha=0,\n",
              "                                           reg_lambda=1, sc...\n",
              "                                           seed=None, silent=None, subsample=1,\n",
              "                                           verbosity=1),\n",
              "                   iid='deprecated', n_iter=10, n_jobs=None,\n",
              "                   param_distributions={'learning_rate': [0.001, 0.01, 0.05,\n",
              "                                                          0.1, 0.5, 1],\n",
              "                                        'max_depth': [1, 2, 4, 6, 10, 15, 20,\n",
              "                                                      25, 35, 50],\n",
              "                                        'n_estimators': [0, 200, 400, 600, 800,\n",
              "                                                         1000, 1200, 1400, 1600,\n",
              "                                                         1800]},\n",
              "                   pre_dispatch='2*n_jobs', random_state=None, refit=True,\n",
              "                   return_train_score=False, scoring='accuracy', verbose=0)"
            ]
          },
          "metadata": {
            "tags": []
          },
          "execution_count": 14
        }
      ]
    },
    {
      "cell_type": "code",
      "metadata": {
        "id": "1nq4hTMqy_2c",
        "colab_type": "code",
        "colab": {
          "base_uri": "https://localhost:8080/",
          "height": 34
        },
        "outputId": "fb427ee0-b1c8-4526-a40c-63b4726a7de6"
      },
      "source": [
        "random_cv.best_score_"
      ],
      "execution_count": 17,
      "outputs": [
        {
          "output_type": "execute_result",
          "data": {
            "text/plain": [
              "0.8407140762665993"
            ]
          },
          "metadata": {
            "tags": []
          },
          "execution_count": 17
        }
      ]
    },
    {
      "cell_type": "code",
      "metadata": {
        "id": "nNwgl4kf8FJb",
        "colab_type": "code",
        "colab": {
          "base_uri": "https://localhost:8080/",
          "height": 51
        },
        "outputId": "eee16946-02f0-4def-f3e1-74f452b9f404"
      },
      "source": [
        "clf=lgb.LGBMClassifier()\n",
        "clf.fit(X_train,y_train)\n",
        "y_pred=clf.predict(X_test)\n",
        "train_score=clf.score(X_train,y_train)\n",
        "test_score= accuracy_score(y_test,y_pred)\n",
        "print('Training Accuracy :',train_score)\n",
        "print('Testing Accuracy :',test_score)\n"
      ],
      "execution_count": 66,
      "outputs": [
        {
          "output_type": "stream",
          "text": [
            "Training Accuracy : 0.8512787328025209\n",
            "Testing Accuracy : 0.8454872833670943\n"
          ],
          "name": "stdout"
        }
      ]
    },
    {
      "cell_type": "code",
      "metadata": {
        "id": "0vP5TRSd1XPr",
        "colab_type": "code",
        "colab": {}
      },
      "source": [
        "model=Sequential()\n",
        "model.add(Dense(units=1000,activation='relu',input_dim=8))\n",
        "model.add(Dense(units=600,activation='relu'))\n",
        "model.add(Dense(units=500,activation='relu'))\n",
        "model.add(Dense(units=300,activation='relu'))\n",
        "model.add(Dense(units=200,activation='relu'))\n",
        "model.add(Dense(units=3,activation='softmax'))\n",
        "\n",
        "model.compile(optimizer='adam',loss='sparse_categorical_crossentropy',metrics=['accuracy'])"
      ],
      "execution_count": 51,
      "outputs": []
    },
    {
      "cell_type": "code",
      "metadata": {
        "id": "AYl9SNTB2-Ei",
        "colab_type": "code",
        "colab": {
          "base_uri": "https://localhost:8080/",
          "height": 1000
        },
        "outputId": "3427907e-be7b-4d64-b9b3-d514364dae73"
      },
      "source": [
        "result=model.fit(X_train,y_train, validation_data=(X_test,y_test),epochs=30)"
      ],
      "execution_count": 52,
      "outputs": [
        {
          "output_type": "stream",
          "text": [
            "Epoch 1/30\n",
            "2222/2222 [==============================] - 6s 3ms/step - loss: 0.4704 - accuracy: 0.8397 - val_loss: 0.4595 - val_accuracy: 0.8387\n",
            "Epoch 2/30\n",
            "2222/2222 [==============================] - 6s 3ms/step - loss: 0.4504 - accuracy: 0.8406 - val_loss: 0.4495 - val_accuracy: 0.8389\n",
            "Epoch 3/30\n",
            "2222/2222 [==============================] - 6s 3ms/step - loss: 0.4465 - accuracy: 0.8405 - val_loss: 0.4513 - val_accuracy: 0.8383\n",
            "Epoch 4/30\n",
            "2222/2222 [==============================] - 6s 3ms/step - loss: 0.4430 - accuracy: 0.8405 - val_loss: 0.4507 - val_accuracy: 0.8388\n",
            "Epoch 5/30\n",
            "2222/2222 [==============================] - 6s 3ms/step - loss: 0.4422 - accuracy: 0.8409 - val_loss: 0.4436 - val_accuracy: 0.8387\n",
            "Epoch 6/30\n",
            "2222/2222 [==============================] - 6s 3ms/step - loss: 0.4408 - accuracy: 0.8412 - val_loss: 0.4449 - val_accuracy: 0.8386\n",
            "Epoch 7/30\n",
            "2222/2222 [==============================] - 6s 3ms/step - loss: 0.4387 - accuracy: 0.8415 - val_loss: 0.4420 - val_accuracy: 0.8388\n",
            "Epoch 8/30\n",
            "2222/2222 [==============================] - 6s 3ms/step - loss: 0.4380 - accuracy: 0.8417 - val_loss: 0.4574 - val_accuracy: 0.8417\n",
            "Epoch 9/30\n",
            "2222/2222 [==============================] - 6s 3ms/step - loss: 0.4350 - accuracy: 0.8421 - val_loss: 0.4386 - val_accuracy: 0.8424\n",
            "Epoch 10/30\n",
            "2222/2222 [==============================] - 6s 3ms/step - loss: 0.4349 - accuracy: 0.8418 - val_loss: 0.4353 - val_accuracy: 0.8401\n",
            "Epoch 11/30\n",
            "2222/2222 [==============================] - 6s 3ms/step - loss: 0.4337 - accuracy: 0.8425 - val_loss: 0.4411 - val_accuracy: 0.8422\n",
            "Epoch 12/30\n",
            "2222/2222 [==============================] - 6s 3ms/step - loss: 0.4327 - accuracy: 0.8426 - val_loss: 0.4419 - val_accuracy: 0.8401\n",
            "Epoch 13/30\n",
            "2222/2222 [==============================] - 6s 3ms/step - loss: 0.4320 - accuracy: 0.8428 - val_loss: 0.4421 - val_accuracy: 0.8388\n",
            "Epoch 14/30\n",
            "2222/2222 [==============================] - 6s 3ms/step - loss: 0.4318 - accuracy: 0.8430 - val_loss: 0.4448 - val_accuracy: 0.8378\n",
            "Epoch 15/30\n",
            "2222/2222 [==============================] - 6s 3ms/step - loss: 0.4317 - accuracy: 0.8430 - val_loss: 0.4372 - val_accuracy: 0.8431\n",
            "Epoch 16/30\n",
            "2222/2222 [==============================] - 6s 3ms/step - loss: 0.4303 - accuracy: 0.8429 - val_loss: 0.4391 - val_accuracy: 0.8417\n",
            "Epoch 17/30\n",
            "2222/2222 [==============================] - 7s 3ms/step - loss: 0.4300 - accuracy: 0.8429 - val_loss: 0.4370 - val_accuracy: 0.8416\n",
            "Epoch 18/30\n",
            "2222/2222 [==============================] - 7s 3ms/step - loss: 0.4293 - accuracy: 0.8430 - val_loss: 0.4355 - val_accuracy: 0.8404\n",
            "Epoch 19/30\n",
            "2222/2222 [==============================] - 6s 3ms/step - loss: 0.4302 - accuracy: 0.8429 - val_loss: 0.4359 - val_accuracy: 0.8435\n",
            "Epoch 20/30\n",
            "2222/2222 [==============================] - 6s 3ms/step - loss: 0.4298 - accuracy: 0.8437 - val_loss: 0.4430 - val_accuracy: 0.8397\n",
            "Epoch 21/30\n",
            "2222/2222 [==============================] - 6s 3ms/step - loss: 0.4294 - accuracy: 0.8439 - val_loss: 0.4343 - val_accuracy: 0.8429\n",
            "Epoch 22/30\n",
            "2222/2222 [==============================] - 6s 3ms/step - loss: 0.4280 - accuracy: 0.8440 - val_loss: 0.4360 - val_accuracy: 0.8410\n",
            "Epoch 23/30\n",
            "2222/2222 [==============================] - 6s 3ms/step - loss: 0.4283 - accuracy: 0.8437 - val_loss: 0.4370 - val_accuracy: 0.8406\n",
            "Epoch 24/30\n",
            "2222/2222 [==============================] - 6s 3ms/step - loss: 0.4276 - accuracy: 0.8443 - val_loss: 0.4379 - val_accuracy: 0.8414\n",
            "Epoch 25/30\n",
            "2222/2222 [==============================] - 6s 3ms/step - loss: 0.4281 - accuracy: 0.8433 - val_loss: 0.4360 - val_accuracy: 0.8419\n",
            "Epoch 26/30\n",
            "2222/2222 [==============================] - 6s 3ms/step - loss: 0.4272 - accuracy: 0.8443 - val_loss: 0.4361 - val_accuracy: 0.8426\n",
            "Epoch 27/30\n",
            "2222/2222 [==============================] - 7s 3ms/step - loss: 0.4273 - accuracy: 0.8442 - val_loss: 0.4362 - val_accuracy: 0.8392\n",
            "Epoch 28/30\n",
            "2222/2222 [==============================] - 6s 3ms/step - loss: 0.4274 - accuracy: 0.8443 - val_loss: 0.4376 - val_accuracy: 0.8419\n",
            "Epoch 29/30\n",
            "2222/2222 [==============================] - 6s 3ms/step - loss: 0.4267 - accuracy: 0.8442 - val_loss: 0.4366 - val_accuracy: 0.8417\n",
            "Epoch 30/30\n",
            "2222/2222 [==============================] - 6s 3ms/step - loss: 0.4265 - accuracy: 0.8442 - val_loss: 0.4377 - val_accuracy: 0.8387\n"
          ],
          "name": "stdout"
        }
      ]
    },
    {
      "cell_type": "code",
      "metadata": {
        "id": "JbrWc9p44n56",
        "colab_type": "code",
        "colab": {}
      },
      "source": [
        "# I got 84% accuracy "
      ],
      "execution_count": 1,
      "outputs": []
    },
    {
      "cell_type": "code",
      "metadata": {
        "id": "4Z-IXlCx5KTW",
        "colab_type": "code",
        "colab": {}
      },
      "source": [
        ""
      ],
      "execution_count": null,
      "outputs": []
    }
  ]
}